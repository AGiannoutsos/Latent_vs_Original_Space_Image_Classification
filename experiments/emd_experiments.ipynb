{
  "nbformat": 4,
  "nbformat_minor": 0,
  "metadata": {
    "colab": {
      "name": "Untitled6.ipynb",
      "provenance": [],
      "collapsed_sections": []
    },
    "kernelspec": {
      "name": "python3",
      "display_name": "Python 3"
    }
  },
  "cells": [
    {
      "cell_type": "code",
      "metadata": {
        "id": "Oa4twjvZRMFT"
      },
      "source": [
        "!git clone https://@github.com/AGiannoutsos/Latent_vs_Original_Space_Image_Classification.git\n",
        "%cd Latent_vs_Original_Space_Image_Classification/"
      ],
      "execution_count": null,
      "outputs": []
    },
    {
      "cell_type": "markdown",
      "metadata": {
        "id": "eptegpjKpV2Y"
      },
      "source": [
        "# Data preprocess"
      ]
    },
    {
      "cell_type": "code",
      "metadata": {
        "colab": {
          "base_uri": "https://localhost:8080/"
        },
        "id": "JlzGep2nrCIq",
        "outputId": "89d40182-cb6c-4f16-92e6-b6036eaa958d"
      },
      "source": [
        "import emd.search_emd as emd\n",
        "# Reading training and test sets\n",
        "datasetFile = \"/content/Latent_vs_Original_Space_Image_Classification/data/train-images-idx3-ubyte\"\n",
        "dlabelsFile = \"/content/Latent_vs_Original_Space_Image_Classification/data/train-labels-idx1-ubyte\"\n",
        "testsetFile = \"/content/Latent_vs_Original_Space_Image_Classification/data/t10k-images-idx3-ubyte\"\n",
        "tlabelsFile = \"/content/Latent_vs_Original_Space_Image_Classification/data/t10k-labels-idx1-ubyte\"\n",
        "\n",
        "\n",
        "def load_mnist(dataset, digits=np.arange(10), type='data', numOfElements=-1):\n",
        "    intType = np.dtype( 'int32' ).newbyteorder( '>' )\n",
        "    if not os.path.isfile(dataset):\n",
        "        return None\n",
        "    fname = os.path.join(\".\", dataset)\n",
        "    if (type == 'data'):\n",
        "        nMetaDataBytes = 4 * intType.itemsize\n",
        "        images = np.fromfile(fname, dtype = 'ubyte')\n",
        "        magicBytes, size, rows, cols = np.frombuffer(images[:nMetaDataBytes].tobytes(), intType)\n",
        "        if numOfElements == -1:\n",
        "            numOfElements = size #int(len(ind) * size/100.)\n",
        "        images = images[nMetaDataBytes:].astype(dtype = 'float32').reshape([numOfElements, rows, cols, 1])\n",
        "        return images\n",
        "    elif (type == 'labels'):\n",
        "        nMetaDataBytes = 2 * intType.itemsize\n",
        "        labels = np.fromfile(fname, dtype = 'ubyte')[nMetaDataBytes:]\n",
        "        return labels\n",
        "    else:\n",
        "        return None\n",
        "\n",
        "\n",
        "train_X = emd.load_mnist(datasetFile, type='data')[0:]\n",
        "train_Y = emd.load_mnist(dlabelsFile, type='labels')[0:]\n",
        "test_X  = emd.load_mnist(testsetFile, type='data')[0:]\n",
        "test_Y  = emd.load_mnist(tlabelsFile, type='labels')[0:]\n",
        "\n",
        "# reshape labels\n",
        "train_Y = train_Y.reshape((-1,1))\n",
        "test_Y  = test_Y.reshape((-1,1))\n",
        "\n",
        "input_shape = train_X.shape[1:]\n",
        "num_of_classes = train_Y.shape\n",
        "\n",
        "print(train_X.shape, train_Y.shape)"
      ],
      "execution_count": 6,
      "outputs": [
        {
          "output_type": "stream",
          "text": [
            "(60000, 28, 28, 1) (60000, 1)\n"
          ],
          "name": "stdout"
        }
      ]
    },
    {
      "cell_type": "markdown",
      "metadata": {
        "id": "kESPJ-0hpApD"
      },
      "source": [
        "# Manhattan Distance Knn"
      ]
    },
    {
      "cell_type": "code",
      "metadata": {
        "colab": {
          "base_uri": "https://localhost:8080/"
        },
        "id": "EtXAriOFkLBQ",
        "outputId": "7c11343a-9ec3-415f-cd04-df2980cc4a3a"
      },
      "source": [
        "t = 100\n",
        "q = 5\n",
        "\n",
        "# preprocess for knn manhattan\n",
        "x_train = train_X.reshape((60000, -1))[0:t]\n",
        "x_test = test_X.reshape((10000, -1))[0:q]\n",
        "y_train = train_Y[0:t]\n",
        "y_test  = test_Y[0:q]\n",
        "\n",
        "knn = emd.KNN(10, emd.manhattan_distances)\n",
        "knn.fit(x_train, y_train)\n",
        "prediction = knn.predict(x_test)\n",
        "print(\"Time: \",knn.prediction_time)\n",
        "print(\"Accuracy: \", emd.get_Accuracy(prediction, y_test))"
      ],
      "execution_count": 9,
      "outputs": [
        {
          "output_type": "stream",
          "text": [
            "Time:  0.0017328262329101562\n",
            "Accuracy:  0.56\n"
          ],
          "name": "stdout"
        }
      ]
    },
    {
      "cell_type": "markdown",
      "metadata": {
        "id": "Fo7HnfgjpPh9"
      },
      "source": [
        "# Earths Movers Distance Knn"
      ]
    },
    {
      "cell_type": "markdown",
      "metadata": {
        "id": "9laTUHtZqSOY"
      },
      "source": [
        "## Cluster size 14x14"
      ]
    },
    {
      "cell_type": "code",
      "metadata": {
        "colab": {
          "base_uri": "https://localhost:8080/"
        },
        "id": "fAehxxmSpYii",
        "outputId": "023155ac-a1ea-4531-a7b2-bd54ac69fc9a"
      },
      "source": [
        "# preprocess for EMD\n",
        "dim = 14\n",
        "clusters = emd.get_Clusters(train_X[0:t], [dim, dim])\n",
        "test_clusters = emd.get_Clusters(test_X[0:q], [dim, dim])\n",
        "\n",
        "distances, distances_array = emd.get_Clusters_distances(dim, [28,28])\n",
        "# 2 times the weights for the linprog\n",
        "num_of_weights = 2*len(clusters[0])\n",
        "# variables are the of distances\n",
        "num_of_variables = len(distances)\n",
        "print(num_of_weights, num_of_variables)\n",
        "# get A for the EMD coefficients\n",
        "A = emd.get_A(num_of_weights, num_of_variables)\n",
        "\n",
        "emd_knn = emd.KNN(10, emd.earths_movers_distances, distances, A)\n",
        "emd_knn.fit(clusters, y_train)\n",
        "prediction = emd_knn.predict(test_clusters)\n",
        "print(\"Time: \",knn.prediction_time)\n",
        "print(\"Accuracy: \", emd.get_Accuracy(prediction, y_test))"
      ],
      "execution_count": 14,
      "outputs": [
        {
          "output_type": "stream",
          "text": [
            "8 16\n",
            "Time:  0.0017328262329101562\n",
            "Accuracy:  0.12000000000000002\n"
          ],
          "name": "stdout"
        }
      ]
    },
    {
      "cell_type": "markdown",
      "metadata": {
        "id": "p8AACeJsqV54"
      },
      "source": [
        "## Cluster size 7x7"
      ]
    },
    {
      "cell_type": "code",
      "metadata": {
        "colab": {
          "base_uri": "https://localhost:8080/"
        },
        "id": "9qCCTtTXqNdc",
        "outputId": "55492486-41b9-4bdd-e9e1-d24e70d1f753"
      },
      "source": [
        "# preprocess for EMD\n",
        "dim = 7\n",
        "clusters = emd.get_Clusters(train_X[0:t], [dim, dim])\n",
        "test_clusters = emd.get_Clusters(test_X[0:q], [dim, dim])\n",
        "\n",
        "distances, distances_array = emd.get_Clusters_distances(dim, [28,28])\n",
        "# 2 times the weights for the linprog\n",
        "num_of_weights = 2*len(clusters[0])\n",
        "# variables are the of distances\n",
        "num_of_variables = len(distances)\n",
        "print(num_of_weights, num_of_variables)\n",
        "# get A for the EMD coefficients\n",
        "A = emd.get_A(num_of_weights, num_of_variables)\n",
        "\n",
        "emd_knn = emd.KNN(10, emd.earths_movers_distances, distances, A)\n",
        "emd_knn.fit(clusters, y_train)\n",
        "prediction = emd_knn.predict(test_clusters)\n",
        "print(\"Time: \",knn.prediction_time)\n",
        "print(\"Accuracy: \", emd.get_Accuracy(prediction, y_test))"
      ],
      "execution_count": 15,
      "outputs": [
        {
          "output_type": "stream",
          "text": [
            "32 256\n",
            "Time:  0.0017328262329101562\n",
            "Accuracy:  0.1\n"
          ],
          "name": "stdout"
        }
      ]
    },
    {
      "cell_type": "markdown",
      "metadata": {
        "id": "Zwi56ZXrqXlu"
      },
      "source": [
        "## Cluster size 4x4"
      ]
    },
    {
      "cell_type": "code",
      "metadata": {
        "colab": {
          "base_uri": "https://localhost:8080/"
        },
        "id": "2YfBmjOOqQV6",
        "outputId": "156cc89f-9957-4b08-a43e-277e1937fa10"
      },
      "source": [
        "# preprocess for EMD\n",
        "dim = 4\n",
        "clusters = emd.get_Clusters(train_X[0:t], [dim, dim])\n",
        "test_clusters = emd.get_Clusters(test_X[0:q], [dim, dim])\n",
        "\n",
        "distances, distances_array = emd.get_Clusters_distances(dim, [28,28])\n",
        "# 2 times the weights for the linprog\n",
        "num_of_weights = 2*len(clusters[0])\n",
        "# variables are the of distances\n",
        "num_of_variables = len(distances)\n",
        "print(num_of_weights, num_of_variables)\n",
        "# get A for the EMD coefficients\n",
        "A = emd.get_A(num_of_weights, num_of_variables)\n",
        "\n",
        "emd_knn = emd.KNN(10, emd.earths_movers_distances, distances, A)\n",
        "emd_knn.fit(clusters, y_train)\n",
        "prediction = emd_knn.predict(test_clusters)\n",
        "print(\"Time: \",knn.prediction_time)\n",
        "print(\"Accuracy: \", emd.get_Accuracy(prediction, y_test))"
      ],
      "execution_count": 16,
      "outputs": [
        {
          "output_type": "stream",
          "text": [
            "98 2401\n",
            "Time:  0.0017328262329101562\n",
            "Accuracy:  0.24\n"
          ],
          "name": "stdout"
        }
      ]
    },
    {
      "cell_type": "markdown",
      "metadata": {
        "id": "-zNR7a4SqZx7"
      },
      "source": [
        "# Results"
      ]
    },
    {
      "cell_type": "markdown",
      "metadata": {
        "id": "UF078Jhyqdx1"
      },
      "source": [
        "MNIST proved to be very good for manhattan distance. As the images have the same orientation and the labels do not differ much between them it is very easy for this metric to draw conclusions about the images.\n",
        "\n",
        "On the other hand earths mover's distance is a better technique that compares image distributions and can learn and better compare the different features of each image even if they have a different orientation.\n",
        "\n",
        "However, this metric in MNIST did not seem to work well as it took a long time to calculate and was not very accurate. Accuracy begins to improve with a larger cluster but the computation time increases geometrically and it is much more difficult to calculate."
      ]
    }
  ]
}